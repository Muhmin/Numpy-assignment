{
 "cells": [
  {
   "cell_type": "markdown",
   "id": "productive-sauce",
   "metadata": {},
   "source": [
    "# Problem statement 1 "
   ]
  },
  {
   "cell_type": "markdown",
   "id": "favorite-beach",
   "metadata": {},
   "source": [
    "Write a function so that the columns of the output matrix are powers of the input\n",
    "vector.\n",
    "\n",
    "The order of the powers is determined by the increasing boolean argument. Specifically, when\n",
    "increasing is False, the i-th output column is the input vector raised element-wise to the power\n",
    "of N - i - 1."
   ]
  },
  {
   "cell_type": "code",
   "execution_count": 14,
   "id": "normal-education",
   "metadata": {},
   "outputs": [],
   "source": [
    "import numpy as np"
   ]
  },
  {
   "cell_type": "code",
   "execution_count": 19,
   "id": "loved-render",
   "metadata": {},
   "outputs": [
    {
     "data": {
      "text/plain": [
       "array([2, 4, 6, 8])"
      ]
     },
     "execution_count": 19,
     "metadata": {},
     "output_type": "execute_result"
    }
   ],
   "source": [
    "a=np.array([2,4,6,8])\n",
    "a"
   ]
  },
  {
   "cell_type": "code",
   "execution_count": 25,
   "id": "square-worse",
   "metadata": {},
   "outputs": [],
   "source": [
    "N=4"
   ]
  },
  {
   "cell_type": "code",
   "execution_count": 26,
   "id": "narrow-austria",
   "metadata": {},
   "outputs": [
    {
     "data": {
      "text/plain": [
       "array([[  8,   4,   2,   1],\n",
       "       [ 64,  16,   4,   1],\n",
       "       [216,  36,   6,   1],\n",
       "       [512,  64,   8,   1]])"
      ]
     },
     "execution_count": 26,
     "metadata": {},
     "output_type": "execute_result"
    }
   ],
   "source": [
    "np.vander(a,N,increasing=False)"
   ]
  },
  {
   "cell_type": "markdown",
   "id": "hungarian-freeware",
   "metadata": {},
   "source": [
    "# Problem statement 2"
   ]
  },
  {
   "cell_type": "markdown",
   "id": "marked-difficulty",
   "metadata": {},
   "source": [
    "Given a sequence of n values x1, x2, ..., xn and a window size k>0, the k-th moving average of the given sequence is defined as follows:\n",
    "\n",
    "The moving average sequence has n-k+1 elements as shown below.\n",
    "\n",
    "The moving averages with k=4 of a ten-value sequence (n=10) is shown below\n",
    "\n",
    "i 1 2 3 4 5 6 7 8 9 10\n",
    "\n",
    "===== == == == == == == == == == ==\n",
    "\n",
    "Input 10 20 30 40 50 60 70 80 90 100\n",
    "\n",
    "y1 25 = (10+20+30+40)/4\n",
    "\n",
    "y2 35 = (20+30+40+50)/4\n",
    "\n",
    "y3 45 = (30+40+50+60)/4\n",
    "\n",
    "y4 55 = (40+50+60+70)/4\n",
    "\n",
    "y5 65 = (50+60+70+80)/4\n",
    "\n",
    "y6 75 = (60+70+80+90)/4\n",
    "\n",
    "y7 85 = (70+80+90+100)/4\n",
    "\n",
    "Thus, the moving average sequence has n-k+1=10-4+1=7 values.\n",
    "\n",
    "Question: Write a function to find moving average in an array over a window:\n",
    "\n",
    "Test it over [3, 5, 7, 2, 8, 10, 11, 65, 72, 81, 99, 100, 150] and window of 3"
   ]
  },
  {
   "cell_type": "code",
   "execution_count": 29,
   "id": "greatest-specialist",
   "metadata": {},
   "outputs": [
    {
     "name": "stdout",
     "output_type": "stream",
     "text": [
      "Enter number of elements of array5\n",
      "Enter values1: 1\n",
      "Enter values2: 2\n",
      "Enter values3: 3\n",
      "Enter values4: 4\n",
      "Enter values5: 5\n",
      "Enter window size2\n",
      "moving average sequence has 4 values\n",
      "[1.5, 2.5, 3.5, 4.5]\n"
     ]
    }
   ],
   "source": [
    "n=int(input(\"Enter number of elements of array\"))\n",
    "a=[int(input(\"Enter values\"+str(i+1)+\": \")) for i in range (n)]\n",
    "k=int(input(\"Enter window size\"))\n",
    "print(\"moving average sequence has \"+str(n-k+1)+\" values\")\n",
    "list=[] \n",
    "for i in range(k,n+1):\n",
    "    c=a[i-k:i]\n",
    "    z=np.sum(c)/k\n",
    "    list.append(z)\n",
    "print(list)"
   ]
  },
  {
   "cell_type": "code",
   "execution_count": null,
   "id": "afraid-treasurer",
   "metadata": {},
   "outputs": [],
   "source": []
  }
 ],
 "metadata": {
  "kernelspec": {
   "display_name": "Python 3",
   "language": "python",
   "name": "python3"
  },
  "language_info": {
   "codemirror_mode": {
    "name": "ipython",
    "version": 3
   },
   "file_extension": ".py",
   "mimetype": "text/x-python",
   "name": "python",
   "nbconvert_exporter": "python",
   "pygments_lexer": "ipython3",
   "version": "3.6.9"
  }
 },
 "nbformat": 4,
 "nbformat_minor": 5
}
